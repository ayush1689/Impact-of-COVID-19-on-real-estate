{
 "cells": [
  {
   "cell_type": "code",
   "execution_count": 1,
   "metadata": {},
   "outputs": [],
   "source": [
    "import pandas as pd\n",
    "import numpy as np\n",
    "import matplotlib.pyplot as plt\n",
    "import seaborn as sns"
   ]
  },
  {
   "cell_type": "code",
   "execution_count": 2,
   "metadata": {},
   "outputs": [],
   "source": [
    "df = pd.read_csv('makaan_Guwahati.csv')"
   ]
  },
  {
   "cell_type": "code",
   "execution_count": 3,
   "metadata": {},
   "outputs": [
    {
     "data": {
      "text/html": [
       "<div>\n",
       "<style scoped>\n",
       "    .dataframe tbody tr th:only-of-type {\n",
       "        vertical-align: middle;\n",
       "    }\n",
       "\n",
       "    .dataframe tbody tr th {\n",
       "        vertical-align: top;\n",
       "    }\n",
       "\n",
       "    .dataframe thead th {\n",
       "        text-align: right;\n",
       "    }\n",
       "</style>\n",
       "<table border=\"1\" class=\"dataframe\">\n",
       "  <thead>\n",
       "    <tr style=\"text-align: right;\">\n",
       "      <th></th>\n",
       "      <th>Url</th>\n",
       "      <th>Name</th>\n",
       "      <th>price</th>\n",
       "      <th>posteddate</th>\n",
       "      <th>bhk</th>\n",
       "      <th>features</th>\n",
       "      <th>rate</th>\n",
       "      <th>amenities</th>\n",
       "    </tr>\n",
       "  </thead>\n",
       "  <tbody>\n",
       "    <tr>\n",
       "      <th>0</th>\n",
       "      <td>https://www.makaan.com/listings?propertyType=a...</td>\n",
       "      <td>properties in Guwahati :Makaan.com</td>\n",
       "      <td>NaN</td>\n",
       "      <td>NaN</td>\n",
       "      <td>NaN</td>\n",
       "      <td>NaN</td>\n",
       "      <td>NaN</td>\n",
       "      <td>NaN</td>\n",
       "    </tr>\n",
       "    <tr>\n",
       "      <th>1</th>\n",
       "      <td>https://www.makaan.com/guwahati/builder-projec...</td>\n",
       "      <td>1260 sq ft 3 BHK 2T NorthEast facing Apartment...</td>\n",
       "      <td>44.1LEMI</td>\n",
       "      <td>Posted 16 hours ago</td>\n",
       "      <td>3 BHK Apartment - 1,260 sq ft\\nBhetapara, Guwa...</td>\n",
       "      <td>Status\\nReady to move\\nBathrooms\\n2\\nNew/Resal...</td>\n",
       "      <td>3,500/ sq ft</td>\n",
       "      <td>Power Backup\\nLift Available\\n24 X 7 Security\\...</td>\n",
       "    </tr>\n",
       "    <tr>\n",
       "      <th>2</th>\n",
       "      <td>https://www.makaan.com/guwahati/evolution-cons...</td>\n",
       "      <td>950 sq ft 2 BHK Apartment for sale at Rs 40.85...</td>\n",
       "      <td>40.85LEMI</td>\n",
       "      <td>Posted 2 months ago</td>\n",
       "      <td>2 BHK Apartment - 950 sq ft\\nEvolution Chitra ...</td>\n",
       "      <td>Status\\nUnder Construction\\nNew/Resale\\nNew\\nP...</td>\n",
       "      <td>4,300/ sq ft</td>\n",
       "      <td>Power Backup\\nLift Available\\n24 X 7 Security\\...</td>\n",
       "    </tr>\n",
       "    <tr>\n",
       "      <th>3</th>\n",
       "      <td>https://www.makaan.com/guwahati/saroj-parkland...</td>\n",
       "      <td>1630 sq ft 3 BHK 3T Apartment for sale at Rs 6...</td>\n",
       "      <td>62LEMI</td>\n",
       "      <td>Posted a month ago</td>\n",
       "      <td>3 BHK Apartment - 1,630 sq ft\\nSaroj ParklandB...</td>\n",
       "      <td>Status\\nUnder Construction\\nBathrooms\\n3\\nNew/...</td>\n",
       "      <td>3,803/ sq ft</td>\n",
       "      <td>Lift Available\\nNot Available\\nPower Backup\\nN...</td>\n",
       "    </tr>\n",
       "    <tr>\n",
       "      <th>4</th>\n",
       "      <td>https://www.makaan.com/guwahati/htn-developers...</td>\n",
       "      <td>1045 sq ft 2 BHK Apartment for sale at Rs 43.8...</td>\n",
       "      <td>43.89LEMI</td>\n",
       "      <td>Posted 7 days ago</td>\n",
       "      <td>2 BHK Apartment - 1,045 sq ft\\nHTN Om PlazaKah...</td>\n",
       "      <td>Status\\nUnder Construction\\nNew/Resale\\nNew\\nP...</td>\n",
       "      <td>4,200/ sq ft</td>\n",
       "      <td>Lift Available\\nPower Backup\\nNot Available\\n2...</td>\n",
       "    </tr>\n",
       "  </tbody>\n",
       "</table>\n",
       "</div>"
      ],
      "text/plain": [
       "                                                 Url  \\\n",
       "0  https://www.makaan.com/listings?propertyType=a...   \n",
       "1  https://www.makaan.com/guwahati/builder-projec...   \n",
       "2  https://www.makaan.com/guwahati/evolution-cons...   \n",
       "3  https://www.makaan.com/guwahati/saroj-parkland...   \n",
       "4  https://www.makaan.com/guwahati/htn-developers...   \n",
       "\n",
       "                                                Name      price  \\\n",
       "0                 properties in Guwahati :Makaan.com        NaN   \n",
       "1  1260 sq ft 3 BHK 2T NorthEast facing Apartment...   44.1LEMI   \n",
       "2  950 sq ft 2 BHK Apartment for sale at Rs 40.85...  40.85LEMI   \n",
       "3  1630 sq ft 3 BHK 3T Apartment for sale at Rs 6...     62LEMI   \n",
       "4  1045 sq ft 2 BHK Apartment for sale at Rs 43.8...  43.89LEMI   \n",
       "\n",
       "            posteddate                                                bhk  \\\n",
       "0                  NaN                                                NaN   \n",
       "1  Posted 16 hours ago  3 BHK Apartment - 1,260 sq ft\\nBhetapara, Guwa...   \n",
       "2  Posted 2 months ago  2 BHK Apartment - 950 sq ft\\nEvolution Chitra ...   \n",
       "3   Posted a month ago  3 BHK Apartment - 1,630 sq ft\\nSaroj ParklandB...   \n",
       "4    Posted 7 days ago  2 BHK Apartment - 1,045 sq ft\\nHTN Om PlazaKah...   \n",
       "\n",
       "                                            features            rate  \\\n",
       "0                                                NaN             NaN   \n",
       "1  Status\\nReady to move\\nBathrooms\\n2\\nNew/Resal...   3,500/ sq ft    \n",
       "2  Status\\nUnder Construction\\nNew/Resale\\nNew\\nP...   4,300/ sq ft    \n",
       "3  Status\\nUnder Construction\\nBathrooms\\n3\\nNew/...   3,803/ sq ft    \n",
       "4  Status\\nUnder Construction\\nNew/Resale\\nNew\\nP...   4,200/ sq ft    \n",
       "\n",
       "                                           amenities  \n",
       "0                                                NaN  \n",
       "1  Power Backup\\nLift Available\\n24 X 7 Security\\...  \n",
       "2  Power Backup\\nLift Available\\n24 X 7 Security\\...  \n",
       "3  Lift Available\\nNot Available\\nPower Backup\\nN...  \n",
       "4  Lift Available\\nPower Backup\\nNot Available\\n2...  "
      ]
     },
     "execution_count": 3,
     "metadata": {},
     "output_type": "execute_result"
    }
   ],
   "source": [
    "df.head()"
   ]
  },
  {
   "cell_type": "code",
   "execution_count": 4,
   "metadata": {},
   "outputs": [],
   "source": [
    "df = df.dropna(thresh=3)"
   ]
  },
  {
   "cell_type": "code",
   "execution_count": 5,
   "metadata": {},
   "outputs": [],
   "source": [
    "df['amenities'] = df['amenities'].apply(lambda x: x.split('\\n'))"
   ]
  },
  {
   "cell_type": "markdown",
   "metadata": {},
   "source": [
    "### Understanding the Data"
   ]
  },
  {
   "cell_type": "code",
   "execution_count": 6,
   "metadata": {},
   "outputs": [],
   "source": [
    "# This function transforms the list of lists which is the df_1[\"amenities\"] column from 2D to 1D\n",
    "def to_1D(series):\n",
    "    return pd.Series([x for _list in series for x in _list])"
   ]
  },
  {
   "cell_type": "code",
   "execution_count": 7,
   "metadata": {},
   "outputs": [
    {
     "data": {
      "text/plain": [
       "Not Available            1548\n",
       "Gymnasium                 229\n",
       "Lift Available            229\n",
       "Children's play area      229\n",
       "Power Backup              229\n",
       "Sports Facility           229\n",
       "Swimming Pool             229\n",
       "Club House                229\n",
       "24 X 7 Security           229\n",
       "Jogging Track             229\n",
       "Landscaped Gardens        229\n",
       "Car Parking               194\n",
       "Vaastu Compliant           55\n",
       "Rain Water Harvesting      40\n",
       "Maintenance Staff          28\n",
       "Intercom                   13\n",
       "Indoor Games               11\n",
       "Staff Quarter              11\n",
       "Shopping Mall               9\n",
       "Hospital                    6\n",
       "School                      6\n",
       "Multipurpose Room           5\n",
       "ATM                         5\n",
       "Cafeteria                   2\n",
       "Golf Course                 1\n",
       "dtype: int64"
      ]
     },
     "execution_count": 7,
     "metadata": {},
     "output_type": "execute_result"
    }
   ],
   "source": [
    "to_1D(df[\"amenities\"]).value_counts()"
   ]
  },
  {
   "cell_type": "code",
   "execution_count": 8,
   "metadata": {},
   "outputs": [
    {
     "data": {
      "text/plain": [
       "array(['Power Backup', 'Lift Available', '24 X 7 Security',\n",
       "       'Not Available', \"Children's play area\", 'Club House', 'Gymnasium',\n",
       "       'Swimming Pool', 'Sports Facility', 'Jogging Track',\n",
       "       'Landscaped Gardens', 'Car Parking', 'Vaastu Compliant',\n",
       "       'Rain Water Harvesting', 'Intercom', 'Maintenance Staff',\n",
       "       'Hospital', 'School', 'Shopping Mall', 'Staff Quarter', 'ATM',\n",
       "       'Cafeteria', 'Multipurpose Room', 'Indoor Games', 'Golf Course'],\n",
       "      dtype=object)"
      ]
     },
     "execution_count": 8,
     "metadata": {},
     "output_type": "execute_result"
    }
   ],
   "source": [
    "to_1D(df[\"amenities\"]).unique()"
   ]
  },
  {
   "cell_type": "markdown",
   "metadata": {},
   "source": [
    "### We are only keeping following amenities as they are more common and required\n",
    "1. Power Backup \n",
    "2. Lift Available \n",
    "3. 24 X 7 Security\n",
    "4. Children's play area \n",
    "5. Gymnasium \n",
    "6. Landscaped Gardens \n",
    "7. Car Parking \n",
    "8. Club House  "
   ]
  },
  {
   "cell_type": "code",
   "execution_count": 9,
   "metadata": {},
   "outputs": [],
   "source": [
    "# Appending 'Car Parking' in the data as they are missing from few raws.\n",
    "# Appending as 'Not Available', considering they are not present\n",
    "\n",
    "for i in df['amenities']:\n",
    "    for j in i:\n",
    "        if 'Car Parking' in i:\n",
    "            pass\n",
    "        else:\n",
    "            i.append('Car Parking')\n",
    "            i.append('Not Available')"
   ]
  },
  {
   "cell_type": "code",
   "execution_count": 10,
   "metadata": {},
   "outputs": [
    {
     "name": "stdout",
     "output_type": "stream",
     "text": [
      "['Power Backup,Available', 'Lift,Available', '24 X 7 Security,Not Available', \"Children's play area,Not Available\", 'Club House,Not Available', 'Gymnasium,Not Available', 'Swimming Pool,Not Available', 'Sports Facility,Not Available', 'Jogging Track,Not Available', 'Landscaped Gardens,Not Available', 'Car Parking,Not Available']\n"
     ]
    }
   ],
   "source": [
    "## Adding \"Available\" to all the \"amenities\" which are present in the data\n",
    "for j in df['amenities']:\n",
    "    for k in j:\n",
    "        \n",
    "        if 'Not Available' != k:\n",
    "            position = (j.index(k))\n",
    "            w=k.split(' ')\n",
    "            if 'Available' in w:\n",
    "                j[position]=(' ').join(w[:-1])+'_Available'\n",
    "            else:\n",
    "                j[position]=k+'_Available'\n",
    "        else:\n",
    "            j[position]=j[position]+'_Not Available'\n",
    "        \n",
    "            position = (j.index(k))\n",
    "            j.pop(position)\n",
    "            \n",
    "final=[]\n",
    "for t in df['amenities']:\n",
    "    l=[]\n",
    "    for m in t:\n",
    "\n",
    "        d=m.split('_')\n",
    "        if d[-1]== 'Not Available' and d[-2]== 'Available':\n",
    "            d.pop(-2)\n",
    "        #d=(','.join(d))\n",
    "        l.append(','.join(d))\n",
    "    \n",
    "    final.append(l)\n",
    "print(final[0])"
   ]
  },
  {
   "cell_type": "markdown",
   "metadata": {},
   "source": [
    "## Adding required Columns as features"
   ]
  },
  {
   "cell_type": "code",
   "execution_count": 11,
   "metadata": {},
   "outputs": [],
   "source": [
    "df['Power Backup'] = np.nan\n",
    "df['Lift'] = np.nan\n",
    "df['24 X 7 Security'] = np.nan\n",
    "df[\"Children's play area\"] = np.nan\n",
    "df['Gymnasium'] = np.nan\n",
    "df['Landscaped Gardens'] = np.nan\n",
    "df['Car Parking'] = np.nan\n",
    "df['Club House'] = np.nan"
   ]
  },
  {
   "cell_type": "code",
   "execution_count": 12,
   "metadata": {},
   "outputs": [
    {
     "data": {
      "text/html": [
       "<div>\n",
       "<style scoped>\n",
       "    .dataframe tbody tr th:only-of-type {\n",
       "        vertical-align: middle;\n",
       "    }\n",
       "\n",
       "    .dataframe tbody tr th {\n",
       "        vertical-align: top;\n",
       "    }\n",
       "\n",
       "    .dataframe thead th {\n",
       "        text-align: right;\n",
       "    }\n",
       "</style>\n",
       "<table border=\"1\" class=\"dataframe\">\n",
       "  <thead>\n",
       "    <tr style=\"text-align: right;\">\n",
       "      <th></th>\n",
       "      <th>Url</th>\n",
       "      <th>Name</th>\n",
       "      <th>price</th>\n",
       "      <th>posteddate</th>\n",
       "      <th>bhk</th>\n",
       "      <th>features</th>\n",
       "      <th>rate</th>\n",
       "      <th>amenities</th>\n",
       "      <th>Power Backup</th>\n",
       "      <th>Lift Available</th>\n",
       "      <th>24 X 7 Security</th>\n",
       "      <th>Children's play area</th>\n",
       "      <th>Gymnasium</th>\n",
       "      <th>Landscaped Gardens</th>\n",
       "      <th>Car Parking</th>\n",
       "      <th>Club House</th>\n",
       "    </tr>\n",
       "  </thead>\n",
       "  <tbody>\n",
       "    <tr>\n",
       "      <th>1</th>\n",
       "      <td>https://www.makaan.com/guwahati/builder-projec...</td>\n",
       "      <td>1260 sq ft 3 BHK 2T NorthEast facing Apartment...</td>\n",
       "      <td>44.1LEMI</td>\n",
       "      <td>Posted 16 hours ago</td>\n",
       "      <td>3 BHK Apartment - 1,260 sq ft\\nBhetapara, Guwa...</td>\n",
       "      <td>Status\\nReady to move\\nBathrooms\\n2\\nNew/Resal...</td>\n",
       "      <td>3,500/ sq ft</td>\n",
       "      <td>[Power Backup_Available, Lift_Available, 24 X ...</td>\n",
       "      <td>NaN</td>\n",
       "      <td>NaN</td>\n",
       "      <td>NaN</td>\n",
       "      <td>NaN</td>\n",
       "      <td>NaN</td>\n",
       "      <td>NaN</td>\n",
       "      <td>NaN</td>\n",
       "      <td>NaN</td>\n",
       "    </tr>\n",
       "    <tr>\n",
       "      <th>2</th>\n",
       "      <td>https://www.makaan.com/guwahati/evolution-cons...</td>\n",
       "      <td>950 sq ft 2 BHK Apartment for sale at Rs 40.85...</td>\n",
       "      <td>40.85LEMI</td>\n",
       "      <td>Posted 2 months ago</td>\n",
       "      <td>2 BHK Apartment - 950 sq ft\\nEvolution Chitra ...</td>\n",
       "      <td>Status\\nUnder Construction\\nNew/Resale\\nNew\\nP...</td>\n",
       "      <td>4,300/ sq ft</td>\n",
       "      <td>[Power Backup_Available, Lift_Available, 24 X ...</td>\n",
       "      <td>NaN</td>\n",
       "      <td>NaN</td>\n",
       "      <td>NaN</td>\n",
       "      <td>NaN</td>\n",
       "      <td>NaN</td>\n",
       "      <td>NaN</td>\n",
       "      <td>NaN</td>\n",
       "      <td>NaN</td>\n",
       "    </tr>\n",
       "    <tr>\n",
       "      <th>3</th>\n",
       "      <td>https://www.makaan.com/guwahati/saroj-parkland...</td>\n",
       "      <td>1630 sq ft 3 BHK 3T Apartment for sale at Rs 6...</td>\n",
       "      <td>62LEMI</td>\n",
       "      <td>Posted a month ago</td>\n",
       "      <td>3 BHK Apartment - 1,630 sq ft\\nSaroj ParklandB...</td>\n",
       "      <td>Status\\nUnder Construction\\nBathrooms\\n3\\nNew/...</td>\n",
       "      <td>3,803/ sq ft</td>\n",
       "      <td>[Lift_Available_Not Available, Power Backup_No...</td>\n",
       "      <td>NaN</td>\n",
       "      <td>NaN</td>\n",
       "      <td>NaN</td>\n",
       "      <td>NaN</td>\n",
       "      <td>NaN</td>\n",
       "      <td>NaN</td>\n",
       "      <td>NaN</td>\n",
       "      <td>NaN</td>\n",
       "    </tr>\n",
       "    <tr>\n",
       "      <th>4</th>\n",
       "      <td>https://www.makaan.com/guwahati/htn-developers...</td>\n",
       "      <td>1045 sq ft 2 BHK Apartment for sale at Rs 43.8...</td>\n",
       "      <td>43.89LEMI</td>\n",
       "      <td>Posted 7 days ago</td>\n",
       "      <td>2 BHK Apartment - 1,045 sq ft\\nHTN Om PlazaKah...</td>\n",
       "      <td>Status\\nUnder Construction\\nNew/Resale\\nNew\\nP...</td>\n",
       "      <td>4,200/ sq ft</td>\n",
       "      <td>[Lift_Available, Power Backup_Available_Not Av...</td>\n",
       "      <td>NaN</td>\n",
       "      <td>NaN</td>\n",
       "      <td>NaN</td>\n",
       "      <td>NaN</td>\n",
       "      <td>NaN</td>\n",
       "      <td>NaN</td>\n",
       "      <td>NaN</td>\n",
       "      <td>NaN</td>\n",
       "    </tr>\n",
       "    <tr>\n",
       "      <th>5</th>\n",
       "      <td>https://www.makaan.com/guwahati/htn-developers...</td>\n",
       "      <td>1375 sq ft 3 BHK Under Construction property A...</td>\n",
       "      <td>57.75LEMI</td>\n",
       "      <td>Posted 7 days ago</td>\n",
       "      <td>3 BHK Apartment - 1,375 sq ft\\nHTN Om PlazaKah...</td>\n",
       "      <td>Status\\nUnder Construction\\nNew/Resale\\nNew\\nP...</td>\n",
       "      <td>4,200/ sq ft</td>\n",
       "      <td>[Lift_Available, Power Backup_Available_Not Av...</td>\n",
       "      <td>NaN</td>\n",
       "      <td>NaN</td>\n",
       "      <td>NaN</td>\n",
       "      <td>NaN</td>\n",
       "      <td>NaN</td>\n",
       "      <td>NaN</td>\n",
       "      <td>NaN</td>\n",
       "      <td>NaN</td>\n",
       "    </tr>\n",
       "  </tbody>\n",
       "</table>\n",
       "</div>"
      ],
      "text/plain": [
       "                                                 Url  \\\n",
       "1  https://www.makaan.com/guwahati/builder-projec...   \n",
       "2  https://www.makaan.com/guwahati/evolution-cons...   \n",
       "3  https://www.makaan.com/guwahati/saroj-parkland...   \n",
       "4  https://www.makaan.com/guwahati/htn-developers...   \n",
       "5  https://www.makaan.com/guwahati/htn-developers...   \n",
       "\n",
       "                                                Name      price  \\\n",
       "1  1260 sq ft 3 BHK 2T NorthEast facing Apartment...   44.1LEMI   \n",
       "2  950 sq ft 2 BHK Apartment for sale at Rs 40.85...  40.85LEMI   \n",
       "3  1630 sq ft 3 BHK 3T Apartment for sale at Rs 6...     62LEMI   \n",
       "4  1045 sq ft 2 BHK Apartment for sale at Rs 43.8...  43.89LEMI   \n",
       "5  1375 sq ft 3 BHK Under Construction property A...  57.75LEMI   \n",
       "\n",
       "            posteddate                                                bhk  \\\n",
       "1  Posted 16 hours ago  3 BHK Apartment - 1,260 sq ft\\nBhetapara, Guwa...   \n",
       "2  Posted 2 months ago  2 BHK Apartment - 950 sq ft\\nEvolution Chitra ...   \n",
       "3   Posted a month ago  3 BHK Apartment - 1,630 sq ft\\nSaroj ParklandB...   \n",
       "4    Posted 7 days ago  2 BHK Apartment - 1,045 sq ft\\nHTN Om PlazaKah...   \n",
       "5    Posted 7 days ago  3 BHK Apartment - 1,375 sq ft\\nHTN Om PlazaKah...   \n",
       "\n",
       "                                            features            rate  \\\n",
       "1  Status\\nReady to move\\nBathrooms\\n2\\nNew/Resal...   3,500/ sq ft    \n",
       "2  Status\\nUnder Construction\\nNew/Resale\\nNew\\nP...   4,300/ sq ft    \n",
       "3  Status\\nUnder Construction\\nBathrooms\\n3\\nNew/...   3,803/ sq ft    \n",
       "4  Status\\nUnder Construction\\nNew/Resale\\nNew\\nP...   4,200/ sq ft    \n",
       "5  Status\\nUnder Construction\\nNew/Resale\\nNew\\nP...   4,200/ sq ft    \n",
       "\n",
       "                                           amenities  Power Backup  \\\n",
       "1  [Power Backup_Available, Lift_Available, 24 X ...           NaN   \n",
       "2  [Power Backup_Available, Lift_Available, 24 X ...           NaN   \n",
       "3  [Lift_Available_Not Available, Power Backup_No...           NaN   \n",
       "4  [Lift_Available, Power Backup_Available_Not Av...           NaN   \n",
       "5  [Lift_Available, Power Backup_Available_Not Av...           NaN   \n",
       "\n",
       "   Lift Available  24 X 7 Security  Children's play area  Gymnasium  \\\n",
       "1             NaN              NaN                   NaN        NaN   \n",
       "2             NaN              NaN                   NaN        NaN   \n",
       "3             NaN              NaN                   NaN        NaN   \n",
       "4             NaN              NaN                   NaN        NaN   \n",
       "5             NaN              NaN                   NaN        NaN   \n",
       "\n",
       "   Landscaped Gardens  Car Parking  Club House  \n",
       "1                 NaN          NaN         NaN  \n",
       "2                 NaN          NaN         NaN  \n",
       "3                 NaN          NaN         NaN  \n",
       "4                 NaN          NaN         NaN  \n",
       "5                 NaN          NaN         NaN  "
      ]
     },
     "execution_count": 12,
     "metadata": {},
     "output_type": "execute_result"
    }
   ],
   "source": [
    "df.head()"
   ]
  },
  {
   "cell_type": "code",
   "execution_count": null,
   "metadata": {},
   "outputs": [],
   "source": []
  },
  {
   "cell_type": "code",
   "execution_count": null,
   "metadata": {},
   "outputs": [],
   "source": []
  },
  {
   "cell_type": "code",
   "execution_count": null,
   "metadata": {},
   "outputs": [],
   "source": []
  },
  {
   "cell_type": "code",
   "execution_count": null,
   "metadata": {},
   "outputs": [],
   "source": [
    "df.shape"
   ]
  },
  {
   "cell_type": "code",
   "execution_count": null,
   "metadata": {},
   "outputs": [],
   "source": [
    "test = final"
   ]
  },
  {
   "cell_type": "code",
   "execution_count": null,
   "metadata": {},
   "outputs": [],
   "source": [
    "np.shape(test)"
   ]
  },
  {
   "cell_type": "code",
   "execution_count": null,
   "metadata": {},
   "outputs": [],
   "source": [
    "df['test'] = test"
   ]
  },
  {
   "cell_type": "code",
   "execution_count": null,
   "metadata": {},
   "outputs": [],
   "source": [
    "df['test']"
   ]
  },
  {
   "cell_type": "code",
   "execution_count": null,
   "metadata": {},
   "outputs": [],
   "source": [
    "df.info()"
   ]
  },
  {
   "cell_type": "code",
   "execution_count": null,
   "metadata": {},
   "outputs": [],
   "source": [
    "for i in x:\n",
    "    for j in i:\n",
    "        if j == ',':\n",
    "            i.split(',')\n",
    "print(x)"
   ]
  },
  {
   "cell_type": "code",
   "execution_count": null,
   "metadata": {},
   "outputs": [],
   "source": [
    "split_value"
   ]
  },
  {
   "cell_type": "code",
   "execution_count": null,
   "metadata": {},
   "outputs": [],
   "source": []
  },
  {
   "cell_type": "code",
   "execution_count": null,
   "metadata": {},
   "outputs": [],
   "source": [
    "for i in test:\n",
    "    for j in i:\n",
    "        print(j.split(','))"
   ]
  },
  {
   "cell_type": "code",
   "execution_count": null,
   "metadata": {},
   "outputs": [],
   "source": [
    "print(test[0][0])\n",
    "print(test[0][1])\n",
    "print(test[0][2])\n",
    "print(test[0][3])\n",
    "print(test[0][4])\n",
    "print(test[0][5])\n",
    "print(test[0][6])\n",
    "print(test[0][7])\n",
    "print(test[0][8])\n",
    "print(test[0][9])\n",
    "print(test[0][10])"
   ]
  },
  {
   "cell_type": "code",
   "execution_count": null,
   "metadata": {},
   "outputs": [],
   "source": [
    "x = []\n",
    "for i in test:\n",
    "    for j in i:\n",
    "        splited = j.split(',')\n",
    "    x.append(splited)"
   ]
  },
  {
   "cell_type": "code",
   "execution_count": null,
   "metadata": {},
   "outputs": [],
   "source": [
    "np.shape(x)"
   ]
  },
  {
   "cell_type": "code",
   "execution_count": null,
   "metadata": {},
   "outputs": [],
   "source": [
    "x"
   ]
  },
  {
   "cell_type": "code",
   "execution_count": null,
   "metadata": {},
   "outputs": [],
   "source": [
    "for i in test:\n",
    "    print(np.shape(i))"
   ]
  },
  {
   "cell_type": "code",
   "execution_count": null,
   "metadata": {},
   "outputs": [],
   "source": [
    "for i in test:\n",
    "    for j in i:\n",
    "        j.split(',')\n",
    "        print(i)"
   ]
  },
  {
   "cell_type": "code",
   "execution_count": null,
   "metadata": {},
   "outputs": [],
   "source": []
  },
  {
   "cell_type": "code",
   "execution_count": null,
   "metadata": {},
   "outputs": [],
   "source": [
    "amen = []\n",
    "\n",
    "for i in final:\n",
    "    for j in i:\n",
    "        amen.append(i.split(','))"
   ]
  },
  {
   "cell_type": "code",
   "execution_count": null,
   "metadata": {},
   "outputs": [],
   "source": [
    "amen"
   ]
  },
  {
   "cell_type": "code",
   "execution_count": null,
   "metadata": {},
   "outputs": [],
   "source": []
  },
  {
   "cell_type": "code",
   "execution_count": null,
   "metadata": {},
   "outputs": [],
   "source": [
    "y = []\n",
    "for i in final:\n",
    "    for j in i:\n",
    "        if 'Power Backup' in j:\n",
    "            print(i[i.index(j)+1])"
   ]
  },
  {
   "cell_type": "code",
   "execution_count": null,
   "metadata": {},
   "outputs": [],
   "source": [
    "            y.append(i[i.index(j)+1])\n",
    "df['Power Backup'] = y"
   ]
  },
  {
   "cell_type": "code",
   "execution_count": null,
   "metadata": {},
   "outputs": [],
   "source": []
  },
  {
   "cell_type": "code",
   "execution_count": null,
   "metadata": {},
   "outputs": [],
   "source": []
  },
  {
   "cell_type": "code",
   "execution_count": null,
   "metadata": {},
   "outputs": [],
   "source": []
  },
  {
   "cell_type": "code",
   "execution_count": null,
   "metadata": {},
   "outputs": [],
   "source": []
  },
  {
   "cell_type": "code",
   "execution_count": null,
   "metadata": {},
   "outputs": [],
   "source": []
  },
  {
   "cell_type": "code",
   "execution_count": null,
   "metadata": {},
   "outputs": [],
   "source": [
    "y = []\n",
    "for i in final:\n",
    "    for j in i:\n",
    "        if 'Power Backup' in j:\n",
    "            print(i[i.index(j)+1])\n",
    "            y.append(i[i.index(j)+1])\n",
    "df['Power Backup'] = y"
   ]
  },
  {
   "cell_type": "code",
   "execution_count": null,
   "metadata": {},
   "outputs": [],
   "source": []
  },
  {
   "cell_type": "code",
   "execution_count": null,
   "metadata": {},
   "outputs": [],
   "source": [
    "## Adding \"Available\" to all the \"amenities\" which are present in the data\n",
    "y = []\n",
    "for i in df['amenities']:\n",
    "    y.append(i)\n",
    "    \n",
    "for j in y:\n",
    "    for k in j:\n",
    "        \n",
    "        if 'Not Available' != k:\n",
    "            position = (j.index(k))\n",
    "            w=k.split(' ')\n",
    "            if 'Available' in w:\n",
    "                j[position]=(' ').join(w[:-1])+'_Available'\n",
    "            else:\n",
    "                j[position]=k+'_Available'\n",
    "        else:\n",
    "            j[position]=j[position]+'_Not Available'\n",
    "        \n",
    "            position = (j.index(k))\n",
    "            j.pop(position)\n",
    "            \n",
    "final=[]\n",
    "for t in y:\n",
    "    l=[]\n",
    "    for m in t:\n",
    "\n",
    "        d=m.split('_')\n",
    "        if d[-1]== 'Not Available' and d[-2]== 'Available':\n",
    "            d.pop(-2)\n",
    "        #d=(','.join(d))\n",
    "        l.append(','.join(d))\n",
    "    \n",
    "    final.append(l)\n",
    "print(final[0])"
   ]
  }
 ],
 "metadata": {
  "kernelspec": {
   "display_name": "Python 3",
   "language": "python",
   "name": "python3"
  },
  "language_info": {
   "codemirror_mode": {
    "name": "ipython",
    "version": 3
   },
   "file_extension": ".py",
   "mimetype": "text/x-python",
   "name": "python",
   "nbconvert_exporter": "python",
   "pygments_lexer": "ipython3",
   "version": "3.7.9"
  }
 },
 "nbformat": 4,
 "nbformat_minor": 4
}
