{
 "cells": [
  {
   "cell_type": "code",
   "execution_count": 1,
   "metadata": {},
   "outputs": [],
   "source": [
    "import pandas as pd\n",
    "import numpy as np\n",
    "import matplotlib.pyplot as plt\n",
    "import seaborn as sns"
   ]
  },
  {
   "cell_type": "code",
   "execution_count": 2,
   "metadata": {},
   "outputs": [],
   "source": [
    "df = pd.read_csv('makaan_Guwahati.csv')"
   ]
  },
  {
   "cell_type": "code",
   "execution_count": 3,
   "metadata": {},
   "outputs": [
    {
     "data": {
      "text/html": [
       "<div>\n",
       "<style scoped>\n",
       "    .dataframe tbody tr th:only-of-type {\n",
       "        vertical-align: middle;\n",
       "    }\n",
       "\n",
       "    .dataframe tbody tr th {\n",
       "        vertical-align: top;\n",
       "    }\n",
       "\n",
       "    .dataframe thead th {\n",
       "        text-align: right;\n",
       "    }\n",
       "</style>\n",
       "<table border=\"1\" class=\"dataframe\">\n",
       "  <thead>\n",
       "    <tr style=\"text-align: right;\">\n",
       "      <th></th>\n",
       "      <th>Url</th>\n",
       "      <th>Name</th>\n",
       "      <th>price</th>\n",
       "      <th>posteddate</th>\n",
       "      <th>bhk</th>\n",
       "      <th>features</th>\n",
       "      <th>rate</th>\n",
       "      <th>amenities</th>\n",
       "    </tr>\n",
       "  </thead>\n",
       "  <tbody>\n",
       "    <tr>\n",
       "      <th>0</th>\n",
       "      <td>https://www.makaan.com/listings?propertyType=a...</td>\n",
       "      <td>properties in Guwahati :Makaan.com</td>\n",
       "      <td>NaN</td>\n",
       "      <td>NaN</td>\n",
       "      <td>NaN</td>\n",
       "      <td>NaN</td>\n",
       "      <td>NaN</td>\n",
       "      <td>NaN</td>\n",
       "    </tr>\n",
       "    <tr>\n",
       "      <th>1</th>\n",
       "      <td>https://www.makaan.com/guwahati/builder-projec...</td>\n",
       "      <td>1260 sq ft 3 BHK 2T NorthEast facing Apartment...</td>\n",
       "      <td>44.1LEMI</td>\n",
       "      <td>Posted 16 hours ago</td>\n",
       "      <td>3 BHK Apartment - 1,260 sq ft\\nBhetapara, Guwa...</td>\n",
       "      <td>Status\\nReady to move\\nBathrooms\\n2\\nNew/Resal...</td>\n",
       "      <td>3,500/ sq ft</td>\n",
       "      <td>Power Backup\\nLift Available\\n24 X 7 Security\\...</td>\n",
       "    </tr>\n",
       "    <tr>\n",
       "      <th>2</th>\n",
       "      <td>https://www.makaan.com/guwahati/evolution-cons...</td>\n",
       "      <td>950 sq ft 2 BHK Apartment for sale at Rs 40.85...</td>\n",
       "      <td>40.85LEMI</td>\n",
       "      <td>Posted 2 months ago</td>\n",
       "      <td>2 BHK Apartment - 950 sq ft\\nEvolution Chitra ...</td>\n",
       "      <td>Status\\nUnder Construction\\nNew/Resale\\nNew\\nP...</td>\n",
       "      <td>4,300/ sq ft</td>\n",
       "      <td>Power Backup\\nLift Available\\n24 X 7 Security\\...</td>\n",
       "    </tr>\n",
       "    <tr>\n",
       "      <th>3</th>\n",
       "      <td>https://www.makaan.com/guwahati/saroj-parkland...</td>\n",
       "      <td>1630 sq ft 3 BHK 3T Apartment for sale at Rs 6...</td>\n",
       "      <td>62LEMI</td>\n",
       "      <td>Posted a month ago</td>\n",
       "      <td>3 BHK Apartment - 1,630 sq ft\\nSaroj ParklandB...</td>\n",
       "      <td>Status\\nUnder Construction\\nBathrooms\\n3\\nNew/...</td>\n",
       "      <td>3,803/ sq ft</td>\n",
       "      <td>Lift Available\\nNot Available\\nPower Backup\\nN...</td>\n",
       "    </tr>\n",
       "    <tr>\n",
       "      <th>4</th>\n",
       "      <td>https://www.makaan.com/guwahati/htn-developers...</td>\n",
       "      <td>1045 sq ft 2 BHK Apartment for sale at Rs 43.8...</td>\n",
       "      <td>43.89LEMI</td>\n",
       "      <td>Posted 7 days ago</td>\n",
       "      <td>2 BHK Apartment - 1,045 sq ft\\nHTN Om PlazaKah...</td>\n",
       "      <td>Status\\nUnder Construction\\nNew/Resale\\nNew\\nP...</td>\n",
       "      <td>4,200/ sq ft</td>\n",
       "      <td>Lift Available\\nPower Backup\\nNot Available\\n2...</td>\n",
       "    </tr>\n",
       "  </tbody>\n",
       "</table>\n",
       "</div>"
      ],
      "text/plain": [
       "                                                 Url  \\\n",
       "0  https://www.makaan.com/listings?propertyType=a...   \n",
       "1  https://www.makaan.com/guwahati/builder-projec...   \n",
       "2  https://www.makaan.com/guwahati/evolution-cons...   \n",
       "3  https://www.makaan.com/guwahati/saroj-parkland...   \n",
       "4  https://www.makaan.com/guwahati/htn-developers...   \n",
       "\n",
       "                                                Name      price  \\\n",
       "0                 properties in Guwahati :Makaan.com        NaN   \n",
       "1  1260 sq ft 3 BHK 2T NorthEast facing Apartment...   44.1LEMI   \n",
       "2  950 sq ft 2 BHK Apartment for sale at Rs 40.85...  40.85LEMI   \n",
       "3  1630 sq ft 3 BHK 3T Apartment for sale at Rs 6...     62LEMI   \n",
       "4  1045 sq ft 2 BHK Apartment for sale at Rs 43.8...  43.89LEMI   \n",
       "\n",
       "            posteddate                                                bhk  \\\n",
       "0                  NaN                                                NaN   \n",
       "1  Posted 16 hours ago  3 BHK Apartment - 1,260 sq ft\\nBhetapara, Guwa...   \n",
       "2  Posted 2 months ago  2 BHK Apartment - 950 sq ft\\nEvolution Chitra ...   \n",
       "3   Posted a month ago  3 BHK Apartment - 1,630 sq ft\\nSaroj ParklandB...   \n",
       "4    Posted 7 days ago  2 BHK Apartment - 1,045 sq ft\\nHTN Om PlazaKah...   \n",
       "\n",
       "                                            features            rate  \\\n",
       "0                                                NaN             NaN   \n",
       "1  Status\\nReady to move\\nBathrooms\\n2\\nNew/Resal...   3,500/ sq ft    \n",
       "2  Status\\nUnder Construction\\nNew/Resale\\nNew\\nP...   4,300/ sq ft    \n",
       "3  Status\\nUnder Construction\\nBathrooms\\n3\\nNew/...   3,803/ sq ft    \n",
       "4  Status\\nUnder Construction\\nNew/Resale\\nNew\\nP...   4,200/ sq ft    \n",
       "\n",
       "                                           amenities  \n",
       "0                                                NaN  \n",
       "1  Power Backup\\nLift Available\\n24 X 7 Security\\...  \n",
       "2  Power Backup\\nLift Available\\n24 X 7 Security\\...  \n",
       "3  Lift Available\\nNot Available\\nPower Backup\\nN...  \n",
       "4  Lift Available\\nPower Backup\\nNot Available\\n2...  "
      ]
     },
     "execution_count": 3,
     "metadata": {},
     "output_type": "execute_result"
    }
   ],
   "source": [
    "df.head()"
   ]
  },
  {
   "cell_type": "code",
   "execution_count": 4,
   "metadata": {},
   "outputs": [
    {
     "data": {
      "text/plain": [
       "Url            0\n",
       "Name           0\n",
       "price         21\n",
       "posteddate    21\n",
       "bhk           21\n",
       "features      21\n",
       "rate          21\n",
       "amenities     21\n",
       "dtype: int64"
      ]
     },
     "execution_count": 4,
     "metadata": {},
     "output_type": "execute_result"
    }
   ],
   "source": [
    "df.isna().sum()"
   ]
  },
  {
   "cell_type": "code",
   "execution_count": 5,
   "metadata": {},
   "outputs": [
    {
     "data": {
      "text/plain": [
       "(250, 8)"
      ]
     },
     "execution_count": 5,
     "metadata": {},
     "output_type": "execute_result"
    }
   ],
   "source": [
    "df.shape"
   ]
  },
  {
   "cell_type": "code",
   "execution_count": 6,
   "metadata": {},
   "outputs": [],
   "source": [
    "df = df.dropna(thresh=3)"
   ]
  },
  {
   "cell_type": "code",
   "execution_count": 7,
   "metadata": {},
   "outputs": [
    {
     "data": {
      "text/plain": [
       "Url           0\n",
       "Name          0\n",
       "price         0\n",
       "posteddate    0\n",
       "bhk           0\n",
       "features      0\n",
       "rate          0\n",
       "amenities     0\n",
       "dtype: int64"
      ]
     },
     "execution_count": 7,
     "metadata": {},
     "output_type": "execute_result"
    }
   ],
   "source": [
    "df.isna().sum()"
   ]
  },
  {
   "cell_type": "code",
   "execution_count": 8,
   "metadata": {},
   "outputs": [
    {
     "data": {
      "text/plain": [
       "(229, 8)"
      ]
     },
     "execution_count": 8,
     "metadata": {},
     "output_type": "execute_result"
    }
   ],
   "source": [
    "df.shape"
   ]
  },
  {
   "cell_type": "code",
   "execution_count": 9,
   "metadata": {},
   "outputs": [
    {
     "data": {
      "text/plain": [
       "1      Status\\nReady to move\\nBathrooms\\n2\\nNew/Resal...\n",
       "2      Status\\nUnder Construction\\nNew/Resale\\nNew\\nP...\n",
       "3      Status\\nUnder Construction\\nBathrooms\\n3\\nNew/...\n",
       "4      Status\\nUnder Construction\\nNew/Resale\\nNew\\nP...\n",
       "5      Status\\nUnder Construction\\nNew/Resale\\nNew\\nP...\n",
       "                             ...                        \n",
       "245    Status\\nReady to move\\nFloor\\n3rd of 4\\nBathro...\n",
       "246    Carpet area\\n942 sq ft\\nStatus\\nUnder Construc...\n",
       "247    Carpet area\\n806 sq ft\\nStatus\\nReady to move\\...\n",
       "248    Carpet area\\n807 sq ft\\nStatus\\nReady to move\\...\n",
       "249    Status\\nReady to move\\nFloor\\n6th of 7\\nBathro...\n",
       "Name: features, Length: 229, dtype: object"
      ]
     },
     "execution_count": 9,
     "metadata": {},
     "output_type": "execute_result"
    }
   ],
   "source": [
    "df['features']"
   ]
  },
  {
   "cell_type": "code",
   "execution_count": 10,
   "metadata": {},
   "outputs": [
    {
     "name": "stdout",
     "output_type": "stream",
     "text": [
      "<class 'pandas.core.frame.DataFrame'>\n",
      "Int64Index: 229 entries, 1 to 249\n",
      "Data columns (total 8 columns):\n",
      " #   Column      Non-Null Count  Dtype \n",
      "---  ------      --------------  ----- \n",
      " 0   Url         229 non-null    object\n",
      " 1   Name        229 non-null    object\n",
      " 2   price       229 non-null    object\n",
      " 3   posteddate  229 non-null    object\n",
      " 4   bhk         229 non-null    object\n",
      " 5   features    229 non-null    object\n",
      " 6   rate        229 non-null    object\n",
      " 7   amenities   229 non-null    object\n",
      "dtypes: object(8)\n",
      "memory usage: 16.1+ KB\n"
     ]
    }
   ],
   "source": [
    "df.info()"
   ]
  },
  {
   "cell_type": "code",
   "execution_count": 11,
   "metadata": {},
   "outputs": [],
   "source": [
    "df['features'] = df['features'].apply(lambda x: x.split('\\n'))"
   ]
  },
  {
   "cell_type": "code",
   "execution_count": 12,
   "metadata": {},
   "outputs": [
    {
     "data": {
      "text/html": [
       "<div>\n",
       "<style scoped>\n",
       "    .dataframe tbody tr th:only-of-type {\n",
       "        vertical-align: middle;\n",
       "    }\n",
       "\n",
       "    .dataframe tbody tr th {\n",
       "        vertical-align: top;\n",
       "    }\n",
       "\n",
       "    .dataframe thead th {\n",
       "        text-align: right;\n",
       "    }\n",
       "</style>\n",
       "<table border=\"1\" class=\"dataframe\">\n",
       "  <thead>\n",
       "    <tr style=\"text-align: right;\">\n",
       "      <th></th>\n",
       "      <th>Url</th>\n",
       "      <th>Name</th>\n",
       "      <th>price</th>\n",
       "      <th>posteddate</th>\n",
       "      <th>bhk</th>\n",
       "      <th>features</th>\n",
       "      <th>rate</th>\n",
       "      <th>amenities</th>\n",
       "    </tr>\n",
       "  </thead>\n",
       "  <tbody>\n",
       "    <tr>\n",
       "      <th>1</th>\n",
       "      <td>https://www.makaan.com/guwahati/builder-projec...</td>\n",
       "      <td>1260 sq ft 3 BHK 2T NorthEast facing Apartment...</td>\n",
       "      <td>44.1LEMI</td>\n",
       "      <td>Posted 16 hours ago</td>\n",
       "      <td>3 BHK Apartment - 1,260 sq ft\\nBhetapara, Guwa...</td>\n",
       "      <td>[Status, Ready to move, Bathrooms, 2, New/Resa...</td>\n",
       "      <td>3,500/ sq ft</td>\n",
       "      <td>Power Backup\\nLift Available\\n24 X 7 Security\\...</td>\n",
       "    </tr>\n",
       "    <tr>\n",
       "      <th>2</th>\n",
       "      <td>https://www.makaan.com/guwahati/evolution-cons...</td>\n",
       "      <td>950 sq ft 2 BHK Apartment for sale at Rs 40.85...</td>\n",
       "      <td>40.85LEMI</td>\n",
       "      <td>Posted 2 months ago</td>\n",
       "      <td>2 BHK Apartment - 950 sq ft\\nEvolution Chitra ...</td>\n",
       "      <td>[Status, Under Construction, New/Resale, New, ...</td>\n",
       "      <td>4,300/ sq ft</td>\n",
       "      <td>Power Backup\\nLift Available\\n24 X 7 Security\\...</td>\n",
       "    </tr>\n",
       "    <tr>\n",
       "      <th>3</th>\n",
       "      <td>https://www.makaan.com/guwahati/saroj-parkland...</td>\n",
       "      <td>1630 sq ft 3 BHK 3T Apartment for sale at Rs 6...</td>\n",
       "      <td>62LEMI</td>\n",
       "      <td>Posted a month ago</td>\n",
       "      <td>3 BHK Apartment - 1,630 sq ft\\nSaroj ParklandB...</td>\n",
       "      <td>[Status, Under Construction, Bathrooms, 3, New...</td>\n",
       "      <td>3,803/ sq ft</td>\n",
       "      <td>Lift Available\\nNot Available\\nPower Backup\\nN...</td>\n",
       "    </tr>\n",
       "    <tr>\n",
       "      <th>4</th>\n",
       "      <td>https://www.makaan.com/guwahati/htn-developers...</td>\n",
       "      <td>1045 sq ft 2 BHK Apartment for sale at Rs 43.8...</td>\n",
       "      <td>43.89LEMI</td>\n",
       "      <td>Posted 7 days ago</td>\n",
       "      <td>2 BHK Apartment - 1,045 sq ft\\nHTN Om PlazaKah...</td>\n",
       "      <td>[Status, Under Construction, New/Resale, New, ...</td>\n",
       "      <td>4,200/ sq ft</td>\n",
       "      <td>Lift Available\\nPower Backup\\nNot Available\\n2...</td>\n",
       "    </tr>\n",
       "    <tr>\n",
       "      <th>5</th>\n",
       "      <td>https://www.makaan.com/guwahati/htn-developers...</td>\n",
       "      <td>1375 sq ft 3 BHK Under Construction property A...</td>\n",
       "      <td>57.75LEMI</td>\n",
       "      <td>Posted 7 days ago</td>\n",
       "      <td>3 BHK Apartment - 1,375 sq ft\\nHTN Om PlazaKah...</td>\n",
       "      <td>[Status, Under Construction, New/Resale, New, ...</td>\n",
       "      <td>4,200/ sq ft</td>\n",
       "      <td>Lift Available\\nPower Backup\\nNot Available\\n2...</td>\n",
       "    </tr>\n",
       "  </tbody>\n",
       "</table>\n",
       "</div>"
      ],
      "text/plain": [
       "                                                 Url  \\\n",
       "1  https://www.makaan.com/guwahati/builder-projec...   \n",
       "2  https://www.makaan.com/guwahati/evolution-cons...   \n",
       "3  https://www.makaan.com/guwahati/saroj-parkland...   \n",
       "4  https://www.makaan.com/guwahati/htn-developers...   \n",
       "5  https://www.makaan.com/guwahati/htn-developers...   \n",
       "\n",
       "                                                Name      price  \\\n",
       "1  1260 sq ft 3 BHK 2T NorthEast facing Apartment...   44.1LEMI   \n",
       "2  950 sq ft 2 BHK Apartment for sale at Rs 40.85...  40.85LEMI   \n",
       "3  1630 sq ft 3 BHK 3T Apartment for sale at Rs 6...     62LEMI   \n",
       "4  1045 sq ft 2 BHK Apartment for sale at Rs 43.8...  43.89LEMI   \n",
       "5  1375 sq ft 3 BHK Under Construction property A...  57.75LEMI   \n",
       "\n",
       "            posteddate                                                bhk  \\\n",
       "1  Posted 16 hours ago  3 BHK Apartment - 1,260 sq ft\\nBhetapara, Guwa...   \n",
       "2  Posted 2 months ago  2 BHK Apartment - 950 sq ft\\nEvolution Chitra ...   \n",
       "3   Posted a month ago  3 BHK Apartment - 1,630 sq ft\\nSaroj ParklandB...   \n",
       "4    Posted 7 days ago  2 BHK Apartment - 1,045 sq ft\\nHTN Om PlazaKah...   \n",
       "5    Posted 7 days ago  3 BHK Apartment - 1,375 sq ft\\nHTN Om PlazaKah...   \n",
       "\n",
       "                                            features            rate  \\\n",
       "1  [Status, Ready to move, Bathrooms, 2, New/Resa...   3,500/ sq ft    \n",
       "2  [Status, Under Construction, New/Resale, New, ...   4,300/ sq ft    \n",
       "3  [Status, Under Construction, Bathrooms, 3, New...   3,803/ sq ft    \n",
       "4  [Status, Under Construction, New/Resale, New, ...   4,200/ sq ft    \n",
       "5  [Status, Under Construction, New/Resale, New, ...   4,200/ sq ft    \n",
       "\n",
       "                                           amenities  \n",
       "1  Power Backup\\nLift Available\\n24 X 7 Security\\...  \n",
       "2  Power Backup\\nLift Available\\n24 X 7 Security\\...  \n",
       "3  Lift Available\\nNot Available\\nPower Backup\\nN...  \n",
       "4  Lift Available\\nPower Backup\\nNot Available\\n2...  \n",
       "5  Lift Available\\nPower Backup\\nNot Available\\n2...  "
      ]
     },
     "execution_count": 12,
     "metadata": {},
     "output_type": "execute_result"
    }
   ],
   "source": [
    "df.head()"
   ]
  },
  {
   "cell_type": "code",
   "execution_count": 13,
   "metadata": {},
   "outputs": [
    {
     "ename": "TypeError",
     "evalue": "unhashable type: 'list'",
     "output_type": "error",
     "traceback": [
      "\u001b[1;31m---------------------------------------------------------------------------\u001b[0m",
      "\u001b[1;31mTypeError\u001b[0m                                 Traceback (most recent call last)",
      "\u001b[1;32mpandas\\_libs\\hashtable_class_helper.pxi\u001b[0m in \u001b[0;36mpandas._libs.hashtable.PyObjectHashTable.map_locations\u001b[1;34m()\u001b[0m\n",
      "\u001b[1;31mTypeError\u001b[0m: unhashable type: 'list'"
     ]
    },
    {
     "name": "stderr",
     "output_type": "stream",
     "text": [
      "Exception ignored in: 'pandas._libs.index.IndexEngine._call_map_locations'\n",
      "Traceback (most recent call last):\n",
      "  File \"pandas\\_libs\\hashtable_class_helper.pxi\", line 1709, in pandas._libs.hashtable.PyObjectHashTable.map_locations\n",
      "TypeError: unhashable type: 'list'\n"
     ]
    },
    {
     "data": {
      "text/plain": [
       "[Status, Under Construction, New/Resale, New, Price Negotiable, No]                     8\n",
       "[Status, Ready to move, Bathrooms, 2, New/Resale, Resale]                               6\n",
       "[Status, Ready to move, Floor, 1st of 3, Bathrooms, 2]                                  3\n",
       "[Status, Under Construction, Bathrooms, 3, New/Resale, Resale]                          3\n",
       "[Carpet area, 1050 sq ft, Status, Under Construction, Floor, 2nd of 3, Bathrooms, 2]    2\n",
       "                                                                                       ..\n",
       "[Status, Under Construction, Floor, 2nd of 2, Bathrooms, 2]                             1\n",
       "[Carpet area, 1048 sq ft, Status, Ready to move, Bathrooms, 2, New/Resale, Resale]      1\n",
       "[Carpet area, 1200 sq ft, Status, Under Construction, Floor, 4th, Bathrooms, 2]         1\n",
       "[Carpet area, 905 sq ft, Status, Under Construction, Floor, 1st of 3, Bathrooms, 2]     1\n",
       "[Carpet area, 2250 sq ft, Status, Under Construction, Floor, 7th of 8, Bathrooms, 3]    1\n",
       "Name: features, Length: 199, dtype: int64"
      ]
     },
     "execution_count": 13,
     "metadata": {},
     "output_type": "execute_result"
    }
   ],
   "source": [
    "df['features'].value_counts()"
   ]
  },
  {
   "cell_type": "code",
   "execution_count": null,
   "metadata": {},
   "outputs": [],
   "source": [
    "#df_test = df['features']\n",
    "#df_test.to_csv('df_test.csv', sep=',',encoding='utf-8', index=False)"
   ]
  },
  {
   "cell_type": "code",
   "execution_count": 14,
   "metadata": {},
   "outputs": [
    {
     "name": "stdout",
     "output_type": "stream",
     "text": [
      "list 0 is <class 'list'>\n",
      "list 1 is <class 'list'>\n",
      "list 2 is <class 'list'>\n",
      "list 3 is <class 'list'>\n",
      "list 4 is <class 'list'>\n",
      "list 5 is <class 'list'>\n",
      "list 6 is <class 'list'>\n",
      "list 7 is <class 'list'>\n",
      "list 8 is <class 'list'>\n",
      "list 9 is <class 'list'>\n",
      "list 10 is <class 'list'>\n",
      "list 11 is <class 'list'>\n",
      "list 12 is <class 'list'>\n",
      "list 13 is <class 'list'>\n",
      "list 14 is <class 'list'>\n",
      "list 15 is <class 'list'>\n",
      "list 16 is <class 'list'>\n",
      "list 17 is <class 'list'>\n",
      "list 18 is <class 'list'>\n",
      "list 19 is <class 'list'>\n",
      "list 20 is <class 'list'>\n",
      "list 21 is <class 'list'>\n",
      "list 22 is <class 'list'>\n",
      "list 23 is <class 'list'>\n",
      "list 24 is <class 'list'>\n",
      "list 25 is <class 'list'>\n",
      "list 26 is <class 'list'>\n",
      "list 27 is <class 'list'>\n",
      "list 28 is <class 'list'>\n",
      "list 29 is <class 'list'>\n",
      "list 30 is <class 'list'>\n",
      "list 31 is <class 'list'>\n",
      "list 32 is <class 'list'>\n",
      "list 33 is <class 'list'>\n",
      "list 34 is <class 'list'>\n",
      "list 35 is <class 'list'>\n",
      "list 36 is <class 'list'>\n",
      "list 37 is <class 'list'>\n",
      "list 38 is <class 'list'>\n",
      "list 39 is <class 'list'>\n",
      "list 40 is <class 'list'>\n",
      "list 41 is <class 'list'>\n",
      "list 42 is <class 'list'>\n",
      "list 43 is <class 'list'>\n",
      "list 44 is <class 'list'>\n",
      "list 45 is <class 'list'>\n",
      "list 46 is <class 'list'>\n",
      "list 47 is <class 'list'>\n",
      "list 48 is <class 'list'>\n",
      "list 49 is <class 'list'>\n",
      "list 50 is <class 'list'>\n",
      "list 51 is <class 'list'>\n",
      "list 52 is <class 'list'>\n",
      "list 53 is <class 'list'>\n",
      "list 54 is <class 'list'>\n",
      "list 55 is <class 'list'>\n",
      "list 56 is <class 'list'>\n",
      "list 57 is <class 'list'>\n",
      "list 58 is <class 'list'>\n",
      "list 59 is <class 'list'>\n",
      "list 60 is <class 'list'>\n",
      "list 61 is <class 'list'>\n",
      "list 62 is <class 'list'>\n",
      "list 63 is <class 'list'>\n",
      "list 64 is <class 'list'>\n",
      "list 65 is <class 'list'>\n",
      "list 66 is <class 'list'>\n",
      "list 67 is <class 'list'>\n",
      "list 68 is <class 'list'>\n",
      "list 69 is <class 'list'>\n",
      "list 70 is <class 'list'>\n",
      "list 71 is <class 'list'>\n",
      "list 72 is <class 'list'>\n",
      "list 73 is <class 'list'>\n",
      "list 74 is <class 'list'>\n",
      "list 75 is <class 'list'>\n",
      "list 76 is <class 'list'>\n",
      "list 77 is <class 'list'>\n",
      "list 78 is <class 'list'>\n",
      "list 79 is <class 'list'>\n",
      "list 80 is <class 'list'>\n",
      "list 81 is <class 'list'>\n",
      "list 82 is <class 'list'>\n",
      "list 83 is <class 'list'>\n",
      "list 84 is <class 'list'>\n",
      "list 85 is <class 'list'>\n",
      "list 86 is <class 'list'>\n",
      "list 87 is <class 'list'>\n",
      "list 88 is <class 'list'>\n",
      "list 89 is <class 'list'>\n",
      "list 90 is <class 'list'>\n",
      "list 91 is <class 'list'>\n",
      "list 92 is <class 'list'>\n",
      "list 93 is <class 'list'>\n",
      "list 94 is <class 'list'>\n",
      "list 95 is <class 'list'>\n",
      "list 96 is <class 'list'>\n",
      "list 97 is <class 'list'>\n",
      "list 98 is <class 'list'>\n",
      "list 99 is <class 'list'>\n",
      "list 100 is <class 'list'>\n",
      "list 101 is <class 'list'>\n",
      "list 102 is <class 'list'>\n",
      "list 103 is <class 'list'>\n",
      "list 104 is <class 'list'>\n",
      "list 105 is <class 'list'>\n",
      "list 106 is <class 'list'>\n",
      "list 107 is <class 'list'>\n",
      "list 108 is <class 'list'>\n",
      "list 109 is <class 'list'>\n",
      "list 110 is <class 'list'>\n",
      "list 111 is <class 'list'>\n",
      "list 112 is <class 'list'>\n",
      "list 113 is <class 'list'>\n",
      "list 114 is <class 'list'>\n",
      "list 115 is <class 'list'>\n",
      "list 116 is <class 'list'>\n",
      "list 117 is <class 'list'>\n",
      "list 118 is <class 'list'>\n",
      "list 119 is <class 'list'>\n",
      "list 120 is <class 'list'>\n",
      "list 121 is <class 'list'>\n",
      "list 122 is <class 'list'>\n",
      "list 123 is <class 'list'>\n",
      "list 124 is <class 'list'>\n",
      "list 125 is <class 'list'>\n",
      "list 126 is <class 'list'>\n",
      "list 127 is <class 'list'>\n",
      "list 128 is <class 'list'>\n",
      "list 129 is <class 'list'>\n",
      "list 130 is <class 'list'>\n",
      "list 131 is <class 'list'>\n",
      "list 132 is <class 'list'>\n",
      "list 133 is <class 'list'>\n",
      "list 134 is <class 'list'>\n",
      "list 135 is <class 'list'>\n",
      "list 136 is <class 'list'>\n",
      "list 137 is <class 'list'>\n",
      "list 138 is <class 'list'>\n",
      "list 139 is <class 'list'>\n",
      "list 140 is <class 'list'>\n",
      "list 141 is <class 'list'>\n",
      "list 142 is <class 'list'>\n",
      "list 143 is <class 'list'>\n",
      "list 144 is <class 'list'>\n",
      "list 145 is <class 'list'>\n",
      "list 146 is <class 'list'>\n",
      "list 147 is <class 'list'>\n",
      "list 148 is <class 'list'>\n",
      "list 149 is <class 'list'>\n",
      "list 150 is <class 'list'>\n",
      "list 151 is <class 'list'>\n",
      "list 152 is <class 'list'>\n",
      "list 153 is <class 'list'>\n",
      "list 154 is <class 'list'>\n",
      "list 155 is <class 'list'>\n",
      "list 156 is <class 'list'>\n",
      "list 157 is <class 'list'>\n",
      "list 158 is <class 'list'>\n",
      "list 159 is <class 'list'>\n",
      "list 160 is <class 'list'>\n",
      "list 161 is <class 'list'>\n",
      "list 162 is <class 'list'>\n",
      "list 163 is <class 'list'>\n",
      "list 164 is <class 'list'>\n",
      "list 165 is <class 'list'>\n",
      "list 166 is <class 'list'>\n",
      "list 167 is <class 'list'>\n",
      "list 168 is <class 'list'>\n",
      "list 169 is <class 'list'>\n",
      "list 170 is <class 'list'>\n",
      "list 171 is <class 'list'>\n",
      "list 172 is <class 'list'>\n",
      "list 173 is <class 'list'>\n",
      "list 174 is <class 'list'>\n",
      "list 175 is <class 'list'>\n",
      "list 176 is <class 'list'>\n",
      "list 177 is <class 'list'>\n",
      "list 178 is <class 'list'>\n",
      "list 179 is <class 'list'>\n",
      "list 180 is <class 'list'>\n",
      "list 181 is <class 'list'>\n",
      "list 182 is <class 'list'>\n",
      "list 183 is <class 'list'>\n",
      "list 184 is <class 'list'>\n",
      "list 185 is <class 'list'>\n",
      "list 186 is <class 'list'>\n",
      "list 187 is <class 'list'>\n",
      "list 188 is <class 'list'>\n",
      "list 189 is <class 'list'>\n",
      "list 190 is <class 'list'>\n",
      "list 191 is <class 'list'>\n",
      "list 192 is <class 'list'>\n",
      "list 193 is <class 'list'>\n",
      "list 194 is <class 'list'>\n",
      "list 195 is <class 'list'>\n",
      "list 196 is <class 'list'>\n",
      "list 197 is <class 'list'>\n",
      "list 198 is <class 'list'>\n",
      "list 199 is <class 'list'>\n",
      "list 200 is <class 'list'>\n",
      "list 201 is <class 'list'>\n",
      "list 202 is <class 'list'>\n",
      "list 203 is <class 'list'>\n",
      "list 204 is <class 'list'>\n",
      "list 205 is <class 'list'>\n",
      "list 206 is <class 'list'>\n",
      "list 207 is <class 'list'>\n",
      "list 208 is <class 'list'>\n",
      "list 209 is <class 'list'>\n",
      "list 210 is <class 'list'>\n",
      "list 211 is <class 'list'>\n",
      "list 212 is <class 'list'>\n",
      "list 213 is <class 'list'>\n",
      "list 214 is <class 'list'>\n",
      "list 215 is <class 'list'>\n",
      "list 216 is <class 'list'>\n",
      "list 217 is <class 'list'>\n",
      "list 218 is <class 'list'>\n",
      "list 219 is <class 'list'>\n",
      "list 220 is <class 'list'>\n",
      "list 221 is <class 'list'>\n",
      "list 222 is <class 'list'>\n",
      "list 223 is <class 'list'>\n",
      "list 224 is <class 'list'>\n",
      "list 225 is <class 'list'>\n",
      "list 226 is <class 'list'>\n",
      "list 227 is <class 'list'>\n",
      "list 228 is <class 'list'>\n"
     ]
    }
   ],
   "source": [
    "for i, l in enumerate(df['features']):\n",
    "    print(\"list\",i,\"is\",type(l))"
   ]
  },
  {
   "cell_type": "code",
   "execution_count": 15,
   "metadata": {},
   "outputs": [
    {
     "data": {
      "text/plain": [
       "dtype('O')"
      ]
     },
     "execution_count": 15,
     "metadata": {},
     "output_type": "execute_result"
    }
   ],
   "source": [
    "df['features'].dtype"
   ]
  },
  {
   "cell_type": "code",
   "execution_count": 16,
   "metadata": {},
   "outputs": [],
   "source": [
    "# This function transforms the list of lists which is the df['features'] column from 2D to 1D\n",
    "def to_1D(series):\n",
    "    return pd.Series([x for _list in series for x in _list])"
   ]
  },
  {
   "cell_type": "code",
   "execution_count": 17,
   "metadata": {},
   "outputs": [
    {
     "data": {
      "text/plain": [
       "0              Status\n",
       "1       Ready to move\n",
       "2           Bathrooms\n",
       "3                   2\n",
       "4          New/Resale\n",
       "            ...      \n",
       "1701    Ready to move\n",
       "1702            Floor\n",
       "1703         6th of 7\n",
       "1704        Bathrooms\n",
       "1705                4\n",
       "Length: 1706, dtype: object"
      ]
     },
     "execution_count": 17,
     "metadata": {},
     "output_type": "execute_result"
    }
   ],
   "source": [
    "to_1D(df['features'])"
   ]
  },
  {
   "cell_type": "code",
   "execution_count": 18,
   "metadata": {},
   "outputs": [
    {
     "data": {
      "text/plain": [
       "Status         229\n",
       "Bathrooms      220\n",
       "Floor          193\n",
       "2              176\n",
       "Carpet area    166\n",
       "              ... \n",
       "1084 sq ft       1\n",
       "1208 sq ft       1\n",
       "1048 sq ft       1\n",
       "1197 sq ft       1\n",
       "880 sq ft        1\n",
       "Length: 155, dtype: int64"
      ]
     },
     "execution_count": 18,
     "metadata": {},
     "output_type": "execute_result"
    }
   ],
   "source": [
    "to_1D(df['features']).value_counts()"
   ]
  },
  {
   "cell_type": "code",
   "execution_count": 19,
   "metadata": {},
   "outputs": [
    {
     "data": {
      "text/plain": [
       "array(['Status', 'Ready to move', 'Bathrooms', '2', 'New/Resale',\n",
       "       'Resale', 'Under Construction', 'New', 'Price Negotiable', 'No',\n",
       "       '3', 'Carpet area', '1200 sq ft', 'Floor', '1st of 4',\n",
       "       '1530 sq ft', '6th of 9', '950 sq ft', '7th of 7', '1050 sq ft',\n",
       "       '1st of 2', '600 sq ft', '4th of 5', '1', '1st of 5', '1350 sq ft',\n",
       "       '2nd of 4', '1250 sq ft', '1001 sq ft', '1st of 3', '800 sq ft',\n",
       "       '3rd of 3', '1500 sq ft', 'Gr of 2', '5th of 5', '850 sq ft',\n",
       "       '990 sq ft', '844 sq ft', '1st of 7', '2nd of 3', '1460 sq ft',\n",
       "       '5th of 14', '1000 sq ft', '3rd of 4', '1080 sq ft', '2nd of 8',\n",
       "       '670 sq ft', '2nd of 2', '790 sq ft', '960 sq ft', '9th of 12',\n",
       "       '1314 sq ft', '1138 sq ft', '6th of 6', '1300 sq ft', '2nd of 7',\n",
       "       '1550 sq ft', '3rd of 7', '1150 sq ft', '2nd of 6', '1357 sq ft',\n",
       "       '1304 sq ft', '5th of 9', '1st of 1', '965 sq ft', '1208 sq ft',\n",
       "       '880 sq ft', '675 sq ft', '930 sq ft', '5th of 7', '1085 sq ft',\n",
       "       '900 sq ft', '4th of 4', '1166 sq ft', '1400 sq ft', '1048 sq ft',\n",
       "       '750 sq ft', 'Balconies', '2150 sq ft', '4', '1160 sq ft',\n",
       "       '709 sq ft', 'Gr of 3', '4th of 6', 'Additional Rooms',\n",
       "       '1 rooms(servant room)', '6th of 7', '720 sq ft', '1765 sq ft',\n",
       "       'Age of Property', '1 - 2 years', '1562 sq ft', '3rd of 5',\n",
       "       '1100 sq ft', '3rd of 8', '780 sq ft', '550 sq ft', '4th of 8',\n",
       "       '2nd of 5', '2250 sq ft', '7th of 8', '6th of 8', '4th of 7',\n",
       "       '1180 sq ft', '4th', '1971 sq ft', '860 sq ft', '1097 sq ft',\n",
       "       '1076 sq ft', '1450 sq ft', '1054 sq ft', '5th of 6', '985 sq ft',\n",
       "       '1st of 6', '1015 sq ft', '1227 sq ft', '991 sq ft', '770 sq ft',\n",
       "       '840 sq ft', '693 sq ft', '978 sq ft', '766 sq ft', '360 sq ft',\n",
       "       'Gr of 4', '1171 sq ft', '767 sq ft', '3rd of 6', '710 sq ft',\n",
       "       '905 sq ft', '1084 sq ft', '1014 sq ft', '861 sq ft', '5th of 8',\n",
       "       '835 sq ft', '839 sq ft', '846 sq ft', '1197 sq ft', '819 sq ft',\n",
       "       '912 sq ft', '687 sq ft', '702 sq ft', '890 sq ft', '1025 sq ft',\n",
       "       '689 sq ft', '722 sq ft', '672 sq ft', '585 sq ft', '598 sq ft',\n",
       "       '1058 sq ft', '671 sq ft', '963 sq ft', '942 sq ft', '806 sq ft',\n",
       "       '8th of 8', '807 sq ft'], dtype=object)"
      ]
     },
     "execution_count": 19,
     "metadata": {},
     "output_type": "execute_result"
    }
   ],
   "source": [
    "to_1D(df['features']).unique()"
   ]
  },
  {
   "cell_type": "code",
   "execution_count": 20,
   "metadata": {},
   "outputs": [],
   "source": [
    "features_expanded_v1 = df['features'].apply(pd.Series)"
   ]
  },
  {
   "cell_type": "code",
   "execution_count": 21,
   "metadata": {},
   "outputs": [
    {
     "data": {
      "text/html": [
       "<div>\n",
       "<style scoped>\n",
       "    .dataframe tbody tr th:only-of-type {\n",
       "        vertical-align: middle;\n",
       "    }\n",
       "\n",
       "    .dataframe tbody tr th {\n",
       "        vertical-align: top;\n",
       "    }\n",
       "\n",
       "    .dataframe thead th {\n",
       "        text-align: right;\n",
       "    }\n",
       "</style>\n",
       "<table border=\"1\" class=\"dataframe\">\n",
       "  <thead>\n",
       "    <tr style=\"text-align: right;\">\n",
       "      <th></th>\n",
       "      <th>0</th>\n",
       "      <th>1</th>\n",
       "      <th>2</th>\n",
       "      <th>3</th>\n",
       "      <th>4</th>\n",
       "      <th>5</th>\n",
       "      <th>6</th>\n",
       "      <th>7</th>\n",
       "    </tr>\n",
       "  </thead>\n",
       "  <tbody>\n",
       "    <tr>\n",
       "      <th>1</th>\n",
       "      <td>Status</td>\n",
       "      <td>Ready to move</td>\n",
       "      <td>Bathrooms</td>\n",
       "      <td>2</td>\n",
       "      <td>New/Resale</td>\n",
       "      <td>Resale</td>\n",
       "      <td>NaN</td>\n",
       "      <td>NaN</td>\n",
       "    </tr>\n",
       "    <tr>\n",
       "      <th>2</th>\n",
       "      <td>Status</td>\n",
       "      <td>Under Construction</td>\n",
       "      <td>New/Resale</td>\n",
       "      <td>New</td>\n",
       "      <td>Price Negotiable</td>\n",
       "      <td>No</td>\n",
       "      <td>NaN</td>\n",
       "      <td>NaN</td>\n",
       "    </tr>\n",
       "    <tr>\n",
       "      <th>3</th>\n",
       "      <td>Status</td>\n",
       "      <td>Under Construction</td>\n",
       "      <td>Bathrooms</td>\n",
       "      <td>3</td>\n",
       "      <td>New/Resale</td>\n",
       "      <td>Resale</td>\n",
       "      <td>NaN</td>\n",
       "      <td>NaN</td>\n",
       "    </tr>\n",
       "    <tr>\n",
       "      <th>4</th>\n",
       "      <td>Status</td>\n",
       "      <td>Under Construction</td>\n",
       "      <td>New/Resale</td>\n",
       "      <td>New</td>\n",
       "      <td>Price Negotiable</td>\n",
       "      <td>No</td>\n",
       "      <td>NaN</td>\n",
       "      <td>NaN</td>\n",
       "    </tr>\n",
       "    <tr>\n",
       "      <th>5</th>\n",
       "      <td>Status</td>\n",
       "      <td>Under Construction</td>\n",
       "      <td>New/Resale</td>\n",
       "      <td>New</td>\n",
       "      <td>Price Negotiable</td>\n",
       "      <td>No</td>\n",
       "      <td>NaN</td>\n",
       "      <td>NaN</td>\n",
       "    </tr>\n",
       "    <tr>\n",
       "      <th>...</th>\n",
       "      <td>...</td>\n",
       "      <td>...</td>\n",
       "      <td>...</td>\n",
       "      <td>...</td>\n",
       "      <td>...</td>\n",
       "      <td>...</td>\n",
       "      <td>...</td>\n",
       "      <td>...</td>\n",
       "    </tr>\n",
       "    <tr>\n",
       "      <th>245</th>\n",
       "      <td>Status</td>\n",
       "      <td>Ready to move</td>\n",
       "      <td>Floor</td>\n",
       "      <td>3rd of 4</td>\n",
       "      <td>Bathrooms</td>\n",
       "      <td>2</td>\n",
       "      <td>NaN</td>\n",
       "      <td>NaN</td>\n",
       "    </tr>\n",
       "    <tr>\n",
       "      <th>246</th>\n",
       "      <td>Carpet area</td>\n",
       "      <td>942 sq ft</td>\n",
       "      <td>Status</td>\n",
       "      <td>Under Construction</td>\n",
       "      <td>Floor</td>\n",
       "      <td>2nd of 4</td>\n",
       "      <td>Bathrooms</td>\n",
       "      <td>2</td>\n",
       "    </tr>\n",
       "    <tr>\n",
       "      <th>247</th>\n",
       "      <td>Carpet area</td>\n",
       "      <td>806 sq ft</td>\n",
       "      <td>Status</td>\n",
       "      <td>Ready to move</td>\n",
       "      <td>Floor</td>\n",
       "      <td>8th of 8</td>\n",
       "      <td>Bathrooms</td>\n",
       "      <td>2</td>\n",
       "    </tr>\n",
       "    <tr>\n",
       "      <th>248</th>\n",
       "      <td>Carpet area</td>\n",
       "      <td>807 sq ft</td>\n",
       "      <td>Status</td>\n",
       "      <td>Ready to move</td>\n",
       "      <td>Floor</td>\n",
       "      <td>3rd of 8</td>\n",
       "      <td>Bathrooms</td>\n",
       "      <td>2</td>\n",
       "    </tr>\n",
       "    <tr>\n",
       "      <th>249</th>\n",
       "      <td>Status</td>\n",
       "      <td>Ready to move</td>\n",
       "      <td>Floor</td>\n",
       "      <td>6th of 7</td>\n",
       "      <td>Bathrooms</td>\n",
       "      <td>4</td>\n",
       "      <td>NaN</td>\n",
       "      <td>NaN</td>\n",
       "    </tr>\n",
       "  </tbody>\n",
       "</table>\n",
       "<p>229 rows × 8 columns</p>\n",
       "</div>"
      ],
      "text/plain": [
       "               0                   1           2                   3  \\\n",
       "1         Status       Ready to move   Bathrooms                   2   \n",
       "2         Status  Under Construction  New/Resale                 New   \n",
       "3         Status  Under Construction   Bathrooms                   3   \n",
       "4         Status  Under Construction  New/Resale                 New   \n",
       "5         Status  Under Construction  New/Resale                 New   \n",
       "..           ...                 ...         ...                 ...   \n",
       "245       Status       Ready to move       Floor            3rd of 4   \n",
       "246  Carpet area           942 sq ft      Status  Under Construction   \n",
       "247  Carpet area           806 sq ft      Status       Ready to move   \n",
       "248  Carpet area           807 sq ft      Status       Ready to move   \n",
       "249       Status       Ready to move       Floor            6th of 7   \n",
       "\n",
       "                    4         5          6    7  \n",
       "1          New/Resale    Resale        NaN  NaN  \n",
       "2    Price Negotiable        No        NaN  NaN  \n",
       "3          New/Resale    Resale        NaN  NaN  \n",
       "4    Price Negotiable        No        NaN  NaN  \n",
       "5    Price Negotiable        No        NaN  NaN  \n",
       "..                ...       ...        ...  ...  \n",
       "245         Bathrooms         2        NaN  NaN  \n",
       "246             Floor  2nd of 4  Bathrooms    2  \n",
       "247             Floor  8th of 8  Bathrooms    2  \n",
       "248             Floor  3rd of 8  Bathrooms    2  \n",
       "249         Bathrooms         4        NaN  NaN  \n",
       "\n",
       "[229 rows x 8 columns]"
      ]
     },
     "execution_count": 21,
     "metadata": {},
     "output_type": "execute_result"
    }
   ],
   "source": [
    "features_expanded_v1"
   ]
  },
  {
   "cell_type": "markdown",
   "metadata": {},
   "source": [
    "### Method II"
   ]
  },
  {
   "cell_type": "code",
   "execution_count": 22,
   "metadata": {},
   "outputs": [],
   "source": [
    "def to_1D(series):\n",
    "    return pd.Series([x for _list in series for x in _list])"
   ]
  },
  {
   "cell_type": "code",
   "execution_count": 23,
   "metadata": {},
   "outputs": [],
   "source": [
    "unique_items = to_1D(df['features']).value_counts()"
   ]
  },
  {
   "cell_type": "code",
   "execution_count": 24,
   "metadata": {},
   "outputs": [
    {
     "data": {
      "text/plain": [
       "Status         229\n",
       "Bathrooms      220\n",
       "Floor          193\n",
       "2              176\n",
       "Carpet area    166\n",
       "              ... \n",
       "1084 sq ft       1\n",
       "1208 sq ft       1\n",
       "1048 sq ft       1\n",
       "1197 sq ft       1\n",
       "880 sq ft        1\n",
       "Length: 155, dtype: int64"
      ]
     },
     "execution_count": 24,
     "metadata": {},
     "output_type": "execute_result"
    }
   ],
   "source": [
    "unique_items"
   ]
  },
  {
   "cell_type": "code",
   "execution_count": 25,
   "metadata": {},
   "outputs": [],
   "source": [
    "features_expanded_v1.to_csv('features_expanded_v1.csv', sep=',',encoding='utf-8', index=False)"
   ]
  },
  {
   "cell_type": "code",
   "execution_count": 27,
   "metadata": {},
   "outputs": [
    {
     "data": {
      "text/plain": [
       "Index(['Url', 'Name', 'price', 'posteddate', 'bhk', 'features', 'rate',\n",
       "       'amenities'],\n",
       "      dtype='object')"
      ]
     },
     "execution_count": 27,
     "metadata": {},
     "output_type": "execute_result"
    }
   ],
   "source": [
    "df.columns"
   ]
  },
  {
   "cell_type": "code",
   "execution_count": 31,
   "metadata": {},
   "outputs": [],
   "source": [
    "df['Status'] = np.nan\n",
    "df['Carpet area'] = np.nan\n",
    "df['Bathrooms'] = np.nan\n",
    "df['Floor'] = np.nan\n",
    "df['New/Resale'] = np.nan\n",
    "df['Additional Rooms'] = np.nan\n",
    "df['Balconies'] = np.nan\n",
    "df['Price Negotiable'] = np.nan\n"
   ]
  },
  {
   "cell_type": "code",
   "execution_count": 32,
   "metadata": {},
   "outputs": [
    {
     "data": {
      "text/plain": [
       "Index(['Url', 'Name', 'price', 'posteddate', 'bhk', 'features', 'rate',\n",
       "       'amenities', 'Status', 'Carpet area', 'Bathrooms', 'Floor',\n",
       "       'New/Resale', 'Additional Rooms', 'Balconies', 'Price Negotiable'],\n",
       "      dtype='object')"
      ]
     },
     "execution_count": 32,
     "metadata": {},
     "output_type": "execute_result"
    }
   ],
   "source": [
    "df.columns"
   ]
  },
  {
   "cell_type": "code",
   "execution_count": null,
   "metadata": {},
   "outputs": [],
   "source": []
  }
 ],
 "metadata": {
  "kernelspec": {
   "display_name": "Python 3",
   "language": "python",
   "name": "python3"
  },
  "language_info": {
   "codemirror_mode": {
    "name": "ipython",
    "version": 3
   },
   "file_extension": ".py",
   "mimetype": "text/x-python",
   "name": "python",
   "nbconvert_exporter": "python",
   "pygments_lexer": "ipython3",
   "version": "3.7.9"
  }
 },
 "nbformat": 4,
 "nbformat_minor": 4
}
